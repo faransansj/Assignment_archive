{
 "cells": [
  {
   "cell_type": "markdown",
   "metadata": {},
   "source": []
  },
  {
   "cell_type": "code",
   "execution_count": null,
   "metadata": {},
   "outputs": [],
   "source": [
    "num = int(input(\"자연수를 입력 : \"))\n",
    "if num % 2 == 0:\n",
    "    print(num, \"is even\")\n",
    "else :\n",
    "    print(num, \"is odd\")"
   ]
  }
 ],
 "metadata": {
  "language_info": {
   "name": "python"
  }
 },
 "nbformat": 4,
 "nbformat_minor": 2
}
