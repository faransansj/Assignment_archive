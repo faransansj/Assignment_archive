{
 "cells": [
  {
   "cell_type": "markdown",
   "metadata": {},
   "source": [
    "# 1주차"
   ]
  },
  {
   "cell_type": "code",
   "execution_count": 1,
   "metadata": {},
   "outputs": [
    {
     "name": "stdout",
     "output_type": "stream",
     "text": [
      "5 is odd\n"
     ]
    }
   ],
   "source": [
    "#1-1\n",
    "number = int(input(\"자연수를 입력하세요\"))\n",
    "if number % 2 == 0:\n",
    "    print(number, \"is even\")\n",
    "else :\n",
    "    print(number, \"is odd\")"
   ]
  },
  {
   "cell_type": "markdown",
   "metadata": {},
   "source": [
    "# 2주차"
   ]
  },
  {
   "cell_type": "code",
   "execution_count": 3,
   "metadata": {},
   "outputs": [
    {
     "name": "stdout",
     "output_type": "stream",
     "text": [
      "881120\n",
      "1068234\n"
     ]
    }
   ],
   "source": [
    "#2-1\n",
    "num = \"881120-1068234\"\n",
    "#다음 코드 부분을 완성해 보세요.\n",
    "date = num[:6]          #생년월일 슬라이싱\n",
    "id_num =  num[7:]       # 뒤의 숫자 부분 슬라이싱\n",
    "print(date)\n",
    "print(id_num)"
   ]
  },
  {
   "cell_type": "code",
   "execution_count": 5,
   "metadata": {},
   "outputs": [
    {
     "name": "stdout",
     "output_type": "stream",
     "text": [
      "1\n"
     ]
    }
   ],
   "source": [
    "#2-2\n",
    "pin = '881120-1068234'\n",
    "# 다음 코드를 완성하세요.\n",
    "key_1 = pin[7] #성별 부분 인덱싱\n",
    "print(key_1)"
   ]
  },
  {
   "cell_type": "code",
   "execution_count": 6,
   "metadata": {},
   "outputs": [
    {
     "data": {
      "text/plain": [
       "'a#b#c#d'"
      ]
     },
     "execution_count": 6,
     "metadata": {},
     "output_type": "execute_result"
    }
   ],
   "source": [
    "#2-3\n",
    "#다음 코드를 완성하시오.\n",
    "char_1 = \"a:b:c:d\"\n",
    "char_1.replace(':','#')           #replace는 괄호안에 ('문자열1', '문자열2')와 같이 써서 문자열1을 문자열2로 바꾼다."
   ]
  },
  {
   "cell_type": "code",
   "execution_count": 13,
   "metadata": {},
   "outputs": [
    {
     "name": "stdout",
     "output_type": "stream",
     "text": [
      "['a', 'b', 'c', 'd']\n"
     ]
    },
    {
     "data": {
      "text/plain": [
       "'a#b#c#d'"
      ]
     },
     "execution_count": 13,
     "metadata": {},
     "output_type": "execute_result"
    }
   ],
   "source": [
    "# 코드를 완성하세요.\n",
    "char_2 = char_1.split(\":\")  # 문자열.split(나누는 기준)\n",
    "print(char_2)\n",
    "char_3 = '#'.join(char_2)            #문자열.join(리스트명)\n",
    "char_3"
   ]
  },
  {
   "cell_type": "code",
   "execution_count": 17,
   "metadata": {},
   "outputs": [
    {
     "name": "stdout",
     "output_type": "stream",
     "text": [
      "3 번 화씨를 섭씨로 바꾸면 4.4444\n"
     ]
    }
   ],
   "source": [
    "#2-4\n",
    "# 다음 코드를 완성하시오.\n",
    "fah = [70, 55, 45, 40, 37, 32, 20, 18, 20]\n",
    "ind_1 = int(input(\"몇번을 섭씨로 바꿀까요?\"))\n",
    "celci = 5/9 *(fah[ind_1]-32)\n",
    "print(f'{ind_1} 번 화씨를 섭씨로 바꾸면 {celci :.4f}')"
   ]
  },
  {
   "cell_type": "code",
   "execution_count": 18,
   "metadata": {},
   "outputs": [
    {
     "name": "stdout",
     "output_type": "stream",
     "text": [
      "Life is too short\n"
     ]
    }
   ],
   "source": [
    "# 2-5\n",
    "cha = ['Life', 'is', 'too', 'short']\n",
    "#다음을 완성하시오. join 함수를 사용하세요.\n",
    "print(\" \".join(cha))"
   ]
  },
  {
   "cell_type": "code",
   "execution_count": 25,
   "metadata": {},
   "outputs": [
    {
     "name": "stdout",
     "output_type": "stream",
     "text": [
      "[5, 4, 3, 2, 1]\n"
     ]
    }
   ],
   "source": [
    "# 2-6\n",
    "a = [1, 3, 5, 4, 2]\n",
    "#다음을 완성하시오.\n",
    "a.sort()\n",
    "a.reverse()\n",
    "print(a)\n"
   ]
  },
  {
   "cell_type": "code",
   "execution_count": 29,
   "metadata": {},
   "outputs": [
    {
     "data": {
      "text/plain": [
       "(1, 2, 3, 4)"
      ]
     },
     "execution_count": 29,
     "metadata": {},
     "output_type": "execute_result"
    }
   ],
   "source": [
    "#2-7\n",
    "\n",
    "a = (1, 2, 3)\n",
    "# 아래에 코드를 완성하시오.\n",
    "new = (4,)\n",
    "a+new\n"
   ]
  },
  {
   "cell_type": "code",
   "execution_count": 30,
   "metadata": {},
   "outputs": [],
   "source": [
    "# 2-8\n",
    "# 다음 코드를 완성하시오.\n",
    "dict1 = {'name' : '홍길동',\n",
    "         'birth' : 1128,\n",
    "         'age' : 30}"
   ]
  },
  {
   "cell_type": "code",
   "execution_count": 31,
   "metadata": {},
   "outputs": [
    {
     "data": {
      "text/plain": [
       "70"
      ]
     },
     "execution_count": 31,
     "metadata": {},
     "output_type": "execute_result"
    }
   ],
   "source": [
    "#2-9\n",
    "a = {'A' : 90, 'B' : 80}\n",
    "#다음 코드를 완성하시오\n",
    "a.get('C', 70)"
   ]
  },
  {
   "cell_type": "code",
   "execution_count": 37,
   "metadata": {},
   "outputs": [
    {
     "data": {
      "text/plain": [
       "[1, 2, 3, 4, 5]"
      ]
     },
     "execution_count": 37,
     "metadata": {},
     "output_type": "execute_result"
    }
   ],
   "source": [
    "#2-10\n",
    "a = [1, 1, 1, 2, 2, 3, 3, 3, 4, 4, 5]\n",
    "\n",
    "list(set(a))\n"
   ]
  },
  {
   "cell_type": "code",
   "execution_count": 38,
   "metadata": {},
   "outputs": [
    {
     "data": {
      "text/plain": [
       "7"
      ]
     },
     "execution_count": 38,
     "metadata": {},
     "output_type": "execute_result"
    }
   ],
   "source": [
    "# 2-11\n",
    "import numpy as np\n",
    "m = np.array([[ 0, 1, 2, 3, 4], [ 5, 6, 7, 8, 9], [10, 11, 12, 13, 14]])\n",
    "              # 7은 2행 3열\n",
    "# 1)\n",
    "m[1,2]"
   ]
  },
  {
   "cell_type": "code",
   "execution_count": 39,
   "metadata": {},
   "outputs": [
    {
     "data": {
      "text/plain": [
       "14"
      ]
     },
     "execution_count": 39,
     "metadata": {},
     "output_type": "execute_result"
    }
   ],
   "source": [
    "#2)\n",
    "m[2,4]"
   ]
  },
  {
   "cell_type": "code",
   "execution_count": 41,
   "metadata": {},
   "outputs": [
    {
     "data": {
      "text/plain": [
       "array([6, 7])"
      ]
     },
     "execution_count": 41,
     "metadata": {},
     "output_type": "execute_result"
    }
   ],
   "source": [
    "#3)\n",
    "m[1,1:3]"
   ]
  },
  {
   "cell_type": "code",
   "execution_count": 43,
   "metadata": {},
   "outputs": [
    {
     "data": {
      "text/plain": [
       "array([ 7, 12])"
      ]
     },
     "execution_count": 43,
     "metadata": {},
     "output_type": "execute_result"
    }
   ],
   "source": [
    "#4)\n",
    "m[1:3,2]"
   ]
  },
  {
   "cell_type": "code",
   "execution_count": 44,
   "metadata": {},
   "outputs": [
    {
     "data": {
      "text/plain": [
       "array([[3, 4],\n",
       "       [8, 9]])"
      ]
     },
     "execution_count": 44,
     "metadata": {},
     "output_type": "execute_result"
    }
   ],
   "source": [
    "#5)\n",
    "m[0:2,3:5]"
   ]
  },
  {
   "cell_type": "markdown",
   "metadata": {},
   "source": [
    "# 3주차"
   ]
  },
  {
   "cell_type": "code",
   "execution_count": 45,
   "metadata": {},
   "outputs": [
    {
     "name": "stdout",
     "output_type": "stream",
     "text": [
      "정답입니다\n"
     ]
    }
   ],
   "source": [
    "# 3-1\n",
    "#아래 코드를 완성하시오.\n",
    "fruit =[\"사과\", \"포도\", \"홍시\"]\n",
    "user_fruit = input(\"좋아하는 과일은? \")\n",
    "\n",
    "if  user_fruit in fruit:   # 이 부분을 완성하시오\n",
    "    print(\"정답입니다\")\n",
    "else :\n",
    "    print(\"오답입니다\")            # 이 부분을 완성하시오."
   ]
  },
  {
   "cell_type": "code",
   "execution_count": 46,
   "metadata": {},
   "outputs": [
    {
     "name": "stdout",
     "output_type": "stream",
     "text": [
      "grade is D\n"
     ]
    }
   ],
   "source": [
    "#3-2\n",
    "grade = int(input(\"Score를 입력하세요: \"))\n",
    "\n",
    "if grade >=81 and grade <=100:\n",
    "    print(\"grade is A\")\n",
    "elif  grade >= 61  :\n",
    "    print(\"grade is B\")\n",
    "elif  grade >= 41     :\n",
    "    print(\"grade is C\")\n",
    "elif  grade >=21     :\n",
    "    print(\"grade is D\")\n",
    "else:\n",
    "    print(\"grade is E\")"
   ]
  },
  {
   "cell_type": "code",
   "execution_count": 47,
   "metadata": {},
   "outputs": [
    {
     "data": {
      "text/plain": [
       "'0110213035118'"
      ]
     },
     "execution_count": 47,
     "metadata": {},
     "output_type": "execute_result"
    }
   ],
   "source": [
    "#3-3\n",
    "idx = [2, 3, 4, 5, 6, 7, 8, 9, 2, 3, 4, 5]\n",
    "num = input(\"주민등록번호를 입력하시오: (xxxxxx-xxxxxxx형태로)\")\n",
    "num = num.replace('-', '')\n",
    "num"
   ]
  },
  {
   "cell_type": "code",
   "execution_count": 50,
   "metadata": {},
   "outputs": [
    {
     "name": "stdout",
     "output_type": "stream",
     "text": [
      "유효하지 않은 주민등록번호입니다. \n"
     ]
    }
   ],
   "source": [
    "s = 0\n",
    "for i in range(12):\n",
    "    s += int(num[i])*idx[i]         # s+= 은 s=s+\n",
    "\n",
    "mod = s % 11\n",
    "c = (11-mod) % 10   # 이 부분을 채우시오.\n",
    "\n",
    "if  c == num[12] :  #이 부분을 채우시오.\n",
    "    print(\"유효한 주민등록번호 입니다.\")\n",
    "else:\n",
    "    print(\"유효하지 않은 주민등록번호입니다. \")"
   ]
  },
  {
   "cell_type": "code",
   "execution_count": 51,
   "metadata": {},
   "outputs": [
    {
     "name": "stdout",
     "output_type": "stream",
     "text": [
      "총 지불해야할 가격은 200원입니다.\n"
     ]
    }
   ],
   "source": [
    "#3-4\n",
    "num = int(input(\"구매할 상품 개수를 입력하시오: \"))\n",
    "\n",
    "if  num<10: #10개 미만\n",
    "    price = 100\n",
    "elif num>= 10 and num <30:\n",
    "    price = 95\n",
    "elif  num>=30 and num<100         :\n",
    "    price = 90\n",
    "elif  num>=100     :\n",
    "    price = 85\n",
    "\n",
    "pay = price * num\n",
    "print(f\"총 지불해야할 가격은 {pay}원입니다.\")"
   ]
  },
  {
   "cell_type": "code",
   "execution_count": 52,
   "metadata": {},
   "outputs": [
    {
     "name": "stdout",
     "output_type": "stream",
     "text": [
      "2016년은 윤년이다.\n"
     ]
    }
   ],
   "source": [
    "#3-5\n",
    "year = int(input(\"년도를 입력하시오: \"))\n",
    "\n",
    "if year % 400 ==0 : # 400으로 나누어 떨어지는 해는 윤년\n",
    "    print(f\"{year}년은 윤년이다.\")\n",
    "elif year % 100==0 : #100으로 나누어 떨어지고 400으로 나누어 지지 않는 해는 평년\n",
    "    print(f\"{year}년은 윤년이 아니다.\")\n",
    "elif year%4 == 0: # 100으로 나누어 지지 않고 4로 나누어 떨어지는 해는 윤년\n",
    "    print(f\"{year}년은 윤년이다.\")\n",
    "else :\n",
    "    print(f\"{year}년은 윤년이 아니다.\")"
   ]
  },
  {
   "cell_type": "code",
   "execution_count": 53,
   "metadata": {},
   "outputs": [
    {
     "name": "stdout",
     "output_type": "stream",
     "text": [
      "2월은 29일까지 있다.\n"
     ]
    }
   ],
   "source": [
    "#3-6\n",
    "year = int(input(\"년도를 입력하시오: \"))\n",
    "month = int(input(\"월을 입력하시오: \"))\n",
    "\n",
    "if month in [1, 3, 5, 7, 8,10, 12]: # 그 달이 1, 3, 5, 7, 8, 10, 12월이면 31일\n",
    "    print(f\"{month}월은 31일까지 있다.\")\n",
    "elif  month in   [4, 6, 9, 11]: #30일인 달\n",
    "    print(f\"{month}월은 30일까지 있다.\")\n",
    "else:\n",
    "    if  year % 400 ==0         : #위의 과정을 참고해서 코드를 채울 것\n",
    "        print(f\"{month}월은 29일까지 있다.\")\n",
    "    elif year % 100==0        :\n",
    "        print(f\"{month}월은 28일까지 있다.\")\n",
    "    elif  year%4 == 0       :\n",
    "        print(f\"{month}월은 29일까지 있다.\")\n",
    "    else  :\n",
    "        print(f\"{month}월은 28일까지 있다.\")\n"
   ]
  },
  {
   "cell_type": "code",
   "execution_count": 54,
   "metadata": {},
   "outputs": [
    {
     "name": "stdout",
     "output_type": "stream",
     "text": [
      "1부터 1000까지의 자연수 중 3의 배수의 합은 166833이다.\n"
     ]
    }
   ],
   "source": [
    "#3-7\n",
    "i = 1\n",
    "total = 0\n",
    "while   i <1001    :\n",
    "    if i%3==0      : # 3의 배수이면 ?\n",
    "        total += i\n",
    "    i +=1\n",
    "\n",
    "\n",
    "print(f\"1부터 1000까지의 자연수 중 3의 배수의 합은 {total}이다.\")"
   ]
  },
  {
   "cell_type": "code",
   "execution_count": 62,
   "metadata": {},
   "outputs": [
    {
     "name": "stdout",
     "output_type": "stream",
     "text": [
      "481\n"
     ]
    }
   ],
   "source": [
    "#3-8\n",
    "A = [20,55,67,82,45,33,90,87,100,25]\n",
    "i = 0\n",
    "total = 0\n",
    "while i < len(A)   :\n",
    "    if  A[i] >=50    :\n",
    "        total += A[i]\n",
    "    i=i+1\n",
    "\n",
    "\n",
    "print(total)"
   ]
  },
  {
   "cell_type": "code",
   "execution_count": 63,
   "metadata": {},
   "outputs": [
    {
     "name": "stdout",
     "output_type": "stream",
     "text": [
      "*\n",
      "**\n",
      "***\n",
      "****\n",
      "*****\n",
      "******\n",
      "*******\n",
      "********\n",
      "*********\n",
      "**********\n"
     ]
    }
   ],
   "source": [
    "#3-9\n",
    "i = 1\n",
    "while  1 :\n",
    "    print( \"*\"*i   )\n",
    "    i+=1        # i를 키워줘야 함.\n",
    "    if i ==11:\n",
    "        break\n"
   ]
  },
  {
   "cell_type": "code",
   "execution_count": 64,
   "metadata": {},
   "outputs": [
    {
     "name": "stdout",
     "output_type": "stream",
     "text": [
      "9994050\n"
     ]
    }
   ],
   "source": [
    "#3-10\n",
    "total = 0\n",
    "i = 100\n",
    "while i<10000:\n",
    "    if i% 5 ==0:\n",
    "        total+= i\n",
    "    i+=1\n",
    "\n",
    "\n",
    "\n",
    "print(total)"
   ]
  },
  {
   "cell_type": "code",
   "execution_count": 66,
   "metadata": {},
   "outputs": [
    {
     "name": "stdout",
     "output_type": "stream",
     "text": [
      "1 2 3 4 5 6 7 8 9 10 11 12 13 14 15 16 17 18 19 20 21 22 23 24 25 26 27 28 29 30 31 32 33 34 35 36 37 38 39 40 41 42 43 44 45 46 47 48 49 50 51 52 53 54 55 56 57 58 59 60 61 62 63 64 65 66 67 68 69 70 71 72 73 74 75 76 77 78 79 80 81 82 83 84 85 86 87 88 89 90 91 92 93 94 95 96 97 98 99 100 "
     ]
    }
   ],
   "source": [
    "#3-11\n",
    "for i in range(1,101):\n",
    "    print(i,end = \" \")"
   ]
  },
  {
   "cell_type": "code",
   "execution_count": 67,
   "metadata": {},
   "outputs": [
    {
     "name": "stdout",
     "output_type": "stream",
     "text": [
      "A학급의 평균 점수는 79.0이다.\n"
     ]
    }
   ],
   "source": [
    "#3-12\n",
    "A = [70,60,55,75,95,90,80,80,85,100]\n",
    "total = 0\n",
    "for i in A:\n",
    "    total+=i\n",
    "\n",
    "\n",
    "average = total / len(A)\n",
    "print(f\"A학급의 평균 점수는 {average}이다.\")"
   ]
  },
  {
   "cell_type": "code",
   "execution_count": 68,
   "metadata": {},
   "outputs": [
    {
     "name": "stdout",
     "output_type": "stream",
     "text": [
      "[1, 2, '*', 4, 5, '*', 7, 8, '*', 10, 11, 12, '*', 14, 15, '*', 17, 18, '*', 20, 21, 22, '*', 24, 25, '*', 27, 28, '*', '*', '*', '*', '*', '*', '*', '*', '*', '*', '*', 40, 41, 42, '*', 44, 45, '*', 47, 48, '*', 50, 51, 52, '*', 54, 55, '*', 57, 58, '*', '*', '*', '*', '*', '*', '*', '*', '*', '*', '*', 70, 71, 72, '*', 74, 75, '*', 77, 78, '*', 80, 81, 82, '*', 84, 85, '*', 87, 88, '*', '*', '*', '*', '*', '*', '*', '*', '*', '*', '*', 100]\n"
     ]
    }
   ],
   "source": [
    "# 3-13\n",
    "numbers = []\n",
    "\n",
    "for i in range(1, 101):\n",
    "    numbers.append(i)\n",
    "\n",
    "for i in range(100) :\n",
    "    if \"3\" in str(numbers[i]):\n",
    "        numbers[i] = \"*\"\n",
    "    if  \"6\" in str(numbers[i]) :\n",
    "        numbers[i] = \"*\"\n",
    "    if   \"9\" in str(numbers[i]) :\n",
    "        numbers[i] = \"*\"\n",
    "\n",
    "\n",
    "print(numbers)"
   ]
  },
  {
   "cell_type": "code",
   "execution_count": 69,
   "metadata": {},
   "outputs": [
    {
     "name": "stdout",
     "output_type": "stream",
     "text": [
      "2551\n"
     ]
    }
   ],
   "source": [
    "#3-14\n",
    "sum = 0\n",
    "for i in range(1,101):\n",
    "    if (i % 3==0) or (i%4==0)  :\n",
    "        sum += i\n",
    "\n",
    "\n",
    "print(sum)"
   ]
  },
  {
   "cell_type": "code",
   "execution_count": 71,
   "metadata": {},
   "outputs": [
    {
     "data": {
      "text/plain": [
       "[81,\n",
       " 65,\n",
       " 35,\n",
       " 41,\n",
       " 33,\n",
       " 46,\n",
       " 32,\n",
       " 90,\n",
       " 64,\n",
       " 96,\n",
       " 39,\n",
       " 47,\n",
       " 19,\n",
       " 37,\n",
       " 41,\n",
       " 53,\n",
       " 25,\n",
       " 82,\n",
       " 16,\n",
       " 93]"
      ]
     },
     "execution_count": 71,
     "metadata": {},
     "output_type": "execute_result"
    }
   ],
   "source": [
    "import random\n",
    "\n",
    "a= [random.randint(0,100) for value in range(0,20)]  \n",
    "a"
   ]
  },
  {
   "cell_type": "code",
   "execution_count": 93,
   "metadata": {},
   "outputs": [
    {
     "data": {
      "text/plain": [
       "'a= [random.randint(0,100) for value in range(0,20)]           # 무작위 리스트 생성하는 법!!!!!!!!!!\\nmax = a[0]\\nfor i in range(1, 20)     :\\n    if  max > a[i]   :\\n        continue\\n    else:\\n        max = a[i]\\n\\n\\nprint(f\"리스트: {a}\\n최대값: {max}\")'"
      ]
     },
     "execution_count": 93,
     "metadata": {},
     "output_type": "execute_result"
    }
   ],
   "source": [
    "#3-15\n",
    "import random\n",
    "\n",
    "\"\"\"a= [random.randint(0,100) for value in range(0,20)]           # 무작위 리스트 생성하는 법!!!!!!!!!!\n",
    "max = a[0]\n",
    "for i in range(1, 20)     :\n",
    "    if  max > a[i]   :\n",
    "        continue\n",
    "    else:\n",
    "        max = a[i]\n",
    "\n",
    "\n",
    "print(f\"리스트: {a}\\n최대값: {max}\")\"\"\"\n"
   ]
  },
  {
   "cell_type": "markdown",
   "metadata": {},
   "source": [
    "# 4주차"
   ]
  },
  {
   "cell_type": "code",
   "execution_count": 73,
   "metadata": {},
   "outputs": [
    {
     "name": "stdout",
     "output_type": "stream",
     "text": [
      "234 짝수입니다\n"
     ]
    }
   ],
   "source": [
    "# 4-1\n",
    "def is_odd(num) :\n",
    "    if  num%2==0  :   #여기에 알맞은 코드를 적으시오.\n",
    "        print(\"%d 짝수입니다\"% num)\n",
    "\n",
    "    else :\n",
    "        print(\"홀수입니다\")\n",
    "\n",
    "is_odd(234)"
   ]
  },
  {
   "cell_type": "code",
   "execution_count": 76,
   "metadata": {},
   "outputs": [
    {
     "data": {
      "text/plain": [
       "4.0"
      ]
     },
     "execution_count": 76,
     "metadata": {},
     "output_type": "execute_result"
    }
   ],
   "source": [
    "#4-2\n",
    "def mean_value(*args) :\n",
    "    result = 0\n",
    "    for i in args :\n",
    "        result+= i      #여기에 알맞은 코드를 넣으시오.\n",
    "\n",
    "    return   result/len(args)     #여기에 알밪은 코드를 넣으시오.\n",
    "\n",
    "mean_value(1, 2, 3, 4, 5, 6, 7)"
   ]
  },
  {
   "cell_type": "code",
   "execution_count": 78,
   "metadata": {},
   "outputs": [
    {
     "data": {
      "text/plain": [
       "(2, 2)"
      ]
     },
     "execution_count": 78,
     "metadata": {},
     "output_type": "execute_result"
    }
   ],
   "source": [
    "#4-3\n",
    "\n",
    "def quo_and_rem(a, b) :\n",
    "    return    a//b, a%b         #여기에 알맞은 코드를 넣으시오.\n",
    "\n",
    "quo_and_rem(12, 5)"
   ]
  },
  {
   "cell_type": "code",
   "execution_count": 79,
   "metadata": {},
   "outputs": [
    {
     "name": "stdout",
     "output_type": "stream",
     "text": [
      "4 8 12 16 20 24 28 32 36 "
     ]
    }
   ],
   "source": [
    "#4-4\n",
    "def is_gugu(n) :\n",
    "    for  i in range(1, 10)         :\n",
    "        print(n*i, end=' ')  # 알맞은 코드를 넣으시오.\n",
    "\n",
    "is_gugu(4)"
   ]
  },
  {
   "cell_type": "code",
   "execution_count": 80,
   "metadata": {},
   "outputs": [
    {
     "data": {
      "text/plain": [
       "6765"
      ]
     },
     "execution_count": 80,
     "metadata": {},
     "output_type": "execute_result"
    }
   ],
   "source": [
    "#4-5\n",
    "def fib(n):\n",
    "    \"\"\"n번째 피보나치 수를 반환한다.\"\"\"\n",
    "    if n == 1:     # 첫 번째 피보나치 수는 1\n",
    "        return 1\n",
    "    elif n == 2:   # 두 번째 피보나치 수는 1\n",
    "        return 1\n",
    "    else:          # 그 후의 피보나치 수\n",
    "        return  fib(n-1) +fib(n-2)       #여기에 알맞은 코드를 넣으시오.\n",
    "\n",
    "fib(20)"
   ]
  },
  {
   "cell_type": "code",
   "execution_count": 81,
   "metadata": {},
   "outputs": [
    {
     "name": "stdout",
     "output_type": "stream",
     "text": [
      "80점은 B 입니다. \n"
     ]
    }
   ],
   "source": [
    "#4-6\n",
    "def grading(num) :\n",
    "    \"등급 주는 함수\"\n",
    "    if  num >=90:  #여기에 알맞은 코드를 넣으시오.\n",
    "        return \"A\"\n",
    "    elif num >= 80 :\n",
    "        return \"B\"\n",
    "    elif num >= 70 :\n",
    "        return \"C\"\n",
    "    elif num >= 60 :\n",
    "        return \"D\"\n",
    "    else :\n",
    "        return num     #여기에 알맞은 코드를 넣으시오.\n",
    "num = int(input(\"당신의 점수는?\"))\n",
    "print(f'{num}점은 {grading(num)} 입니다. ') #여기에 알맞은 코드를 넣으시오."
   ]
  },
  {
   "cell_type": "code",
   "execution_count": 83,
   "metadata": {},
   "outputs": [
    {
     "name": "stdout",
     "output_type": "stream",
     "text": [
      "자연수를 입력하세요\n"
     ]
    }
   ],
   "source": [
    "#4-7\n",
    "try:\n",
    "    number = int(input(\"자연수를 입력하세요 \"))\n",
    "    if number %2 ==0:\n",
    "        print(\"짝수\")\n",
    "    else:\n",
    "        print(\"홀수\")\n",
    "\n",
    "except ValueError    :\n",
    "    print(\"자연수를 입력하세요\")\n",
    "\n"
   ]
  },
  {
   "cell_type": "code",
   "execution_count": 84,
   "metadata": {},
   "outputs": [
    {
     "name": "stdout",
     "output_type": "stream",
     "text": [
      "소수가 아닙니다\n"
     ]
    }
   ],
   "source": [
    "#4-8\n",
    "def check_prime(n):\n",
    "    try:\n",
    "        if n !=2:\n",
    "            for i in range(1,n-1)  :  #적당한 코드를 넣으시오.\n",
    "                if  n%i ==0 :   #적당한 코드를 넣으시오.\n",
    "                    print(\"소수가 아닙니다\")\n",
    "                    break\n",
    "                elif i == n-1 :\n",
    "                    print(\"소수입니다\")\n",
    "        else:\n",
    "            print(\"소수입니다.\")\n",
    "    except  ValueError     :\n",
    "        print(\"자연수를 입력하세요\")\n",
    "\n",
    "check_prime(10)"
   ]
  },
  {
   "cell_type": "code",
   "execution_count": 2,
   "metadata": {},
   "outputs": [
    {
     "name": "stdout",
     "output_type": "stream",
     "text": [
      "[2, 23, 941]\n"
     ]
    }
   ],
   "source": [
    "#4-9\n",
    "def factorization_prime(n):\n",
    "    \"\"\"1보다 큰 자연수 n을 변수로 받아 소인수분해 하는 함수\"\"\"\n",
    "    a = []\n",
    "\n",
    "    while n != 1:\n",
    "        for i in range(2, n + 1):  # 적당한 코드를 넣으시오.\n",
    "            if n%i == 0:\n",
    "                a.append(i)\n",
    "                n = n // i  # 적당한 코드를 넣으시오.\n",
    "                break\n",
    "    return a\n",
    "\n",
    "\n",
    "print(factorization_prime(43286))"
   ]
  },
  {
   "cell_type": "code",
   "execution_count": 3,
   "metadata": {},
   "outputs": [
    {
     "name": "stdout",
     "output_type": "stream",
     "text": [
      "못난이 수입니다.\n"
     ]
    }
   ],
   "source": [
    "def ugly_number(n):\n",
    "    result = factorization_prime(n)\n",
    "\n",
    "    if max(result) > 5:                 ######리스트에서 최소 최대 찾기 적당한 코드를 넣으시오.\n",
    "        print(\"못난이 수가 아닙니다.\")\n",
    "\n",
    "    else:\n",
    "        print(\"못난이 수입니다.\")\n",
    "\n",
    "ugly_number(18)"
   ]
  },
  {
   "cell_type": "code",
   "execution_count": 7,
   "metadata": {},
   "outputs": [
    {
     "name": "stdout",
     "output_type": "stream",
     "text": [
      "['D', 'E']\n"
     ]
    }
   ],
   "source": [
    "from string import ascii_lowercase\n",
    "#string 모듈에 있는 ascii_lowercase 를 사용하면 소문자를 불러올 수 있습니다. print(ascii_lowercase)를 실행하면 볼 수 있습니다.\n",
    "\n",
    "def caesar():\n",
    "    alpha = list(ascii_lowercase.upper())               #알파벳 대문자 리스트\n",
    "    move = int(input('원하는 평행 이동을 적으시오: '))\n",
    "    message = input('보내고 싶은 메시지는?: ')\n",
    "    message_list = list(message)\n",
    "\n",
    "    k=0\n",
    "\n",
    "    for i in message_list:\n",
    "        index = alpha.index(i)                        #alpha.index(i)는 alpha라는 리스트의 i의 위치를 반환\n",
    "        new_index = (index + move) % 26                    #위에 찾은 것과 move를 더한 후 26으로 나눈 나머지로 새 index\n",
    "        message_list[k] = alpha[new_index]\n",
    "        k +=1\n",
    "    return message_list\n",
    "\n",
    "print(caesar())"
   ]
  },
  {
   "cell_type": "code",
   "execution_count": 4,
   "metadata": {},
   "outputs": [
    {
     "name": "stdout",
     "output_type": "stream",
     "text": [
      "45\n",
      "136\n",
      "68\n",
      "34\n",
      "17\n",
      "52\n",
      "26\n",
      "13\n",
      "40\n",
      "20\n",
      "10\n",
      "5\n",
      "16\n",
      "8\n",
      "4\n",
      "2\n",
      "1\n"
     ]
    }
   ],
   "source": [
    "def colla() :\n",
    "    numb = int(input('임의의 자연수를 입력하시오: '))\n",
    "\n",
    "    while True:\n",
    "        print(numb)\n",
    "        if numb == 1:\n",
    "            break\n",
    "        elif numb % 2 == 0:  # 적당한 코드를 넣으시오. (짝수인 경우)\n",
    "            numb = int(numb / 2)  # 또는 numb // 2\n",
    "            continue\n",
    "        elif numb % 2 == 1:  # 적당한 코드를 넣으시오. (홀수인 경우)\n",
    "            numb = numb * 3 + 1\n",
    "            continue\n",
    "\n",
    "colla()"
   ]
  },
  {
   "cell_type": "code",
   "execution_count": null,
   "metadata": {},
   "outputs": [],
   "source": []
  }
 ],
 "metadata": {
  "kernelspec": {
   "display_name": "Python 3",
   "language": "python",
   "name": "python3"
  },
  "language_info": {
   "codemirror_mode": {
    "name": "ipython",
    "version": 3
   },
   "file_extension": ".py",
   "mimetype": "text/x-python",
   "name": "python",
   "nbconvert_exporter": "python",
   "pygments_lexer": "ipython3",
   "version": "3.9.12"
  }
 },
 "nbformat": 4,
 "nbformat_minor": 2
}
