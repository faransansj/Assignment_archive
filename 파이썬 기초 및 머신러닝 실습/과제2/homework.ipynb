{
 "cells": [
  {
   "cell_type": "markdown",
   "metadata": {},
   "source": [
    "# 5주차 실습"
   ]
  },
  {
   "cell_type": "markdown",
   "metadata": {
    "vscode": {
     "languageId": "plaintext"
    }
   },
   "source": [
    "## 실습과제 5-1\n",
    "좌표를 나타내는 클래스 Coordinate를 정의해 보아라. 이 클래스의 속성으로 x와 y를 정의하라. 두 속성의 값은 0으로 정의해 두면 된다."
   ]
  },
  {
   "cell_type": "code",
   "execution_count": 1,
   "metadata": {},
   "outputs": [],
   "source": [
    "class Coordinate:\n",
    "    def __init__(self, x=0, y=0):\n",
    "        self.x = x\n",
    "        self.y = y"
   ]
  },
  {
   "cell_type": "markdown",
   "metadata": {},
   "source": [
    "## 실습과제 5-2 \n",
    "앞에서 정의한 Coordinate() 클래스의 인스턴스를 두 개 생성하고, 인스턴스의 속성을 다음과 같이 각각 부여해라.  \n",
    "  \n",
    "첫번째 인스턴스(point_1): x 축의 좌표는 -1, y 축의 좌표는 2  \n",
    "두번째 인스턴스(point_2): x 축의 좌표는 2, y 축의 좌표는 3.  "
   ]
  },
  {
   "cell_type": "code",
   "execution_count": 3,
   "metadata": {},
   "outputs": [],
   "source": [
    "class Coordinate:\n",
    "    def __init__(self, x=0, y=0):\n",
    "        self.x = x\n",
    "        self.y = y\n",
    "\n",
    "point_1 = Coordinate(-1,2)\n",
    "point_2 = Coordinate(2,3)"
   ]
  },
  {
   "cell_type": "markdown",
   "metadata": {},
   "source": [
    "\n",
    "## 실습솨제 5-3 \n",
    "\n",
    "좌표 인스턴스의 거리 계산하기  \n",
    "연습문제 5-2에서 생성한 두 인스턴스의 거리를 계산하려 한다. 코드 참고로 두 점 사이의 거리를 계산하는 함수를 다음 페이지와 같이 정의할 수 있다.  \n",
    "뒷페이지 함수를 참고해, Coordinate 인스턴스 두 개를 전달받아 거리를 계산하는 함수 distance()를 정의해라.  "
   ]
  },
  {
   "cell_type": "code",
   "execution_count": 6,
   "metadata": {},
   "outputs": [
    {
     "name": "stdout",
     "output_type": "stream",
     "text": [
      "두 점 사이의 거리: 3.16\n"
     ]
    }
   ],
   "source": [
    "import math\n",
    "\n",
    "def square(x):\n",
    "    return x * x\n",
    "\n",
    "def distance(point_a, point_b):\n",
    "    return math.sqrt(square(point_a.x - point_b.x) +\n",
    "                     square(point_a.y - point_b.y))\n",
    "\n",
    "class Coordinate:\n",
    "    def __init__(self, x=0, y=0):\n",
    "        self.x = x\n",
    "        self.y = y\n",
    "\n",
    "point_1 = Coordinate(-1,2)\n",
    "point_2 = Coordinate(2,3)\n",
    "\n",
    "\n",
    "print(f\"두 점 사이의 거리: {distance(point_1, point_2):.2f}\")"
   ]
  },
  {
   "cell_type": "markdown",
   "metadata": {},
   "source": [
    "## 실습과제 5-4\n",
    "앞서 정의한 Coordinate 클래스를 새로 정의하여, 두 좌표 사이의 거리를 계산해 반환하는 메서드 distance()를 정의해라.   \n",
    "이 메서드는 메서드 호출의 기준이 된 인스턴스와 거리를 계산할 다른 인스턴스를 각각 매개변수로 전달받아 거리를 계산한다.   \n",
    "인스턴스를 새로 생성하여 메서드를 테스트 해보아라.  "
   ]
  },
  {
   "cell_type": "code",
   "execution_count": 8,
   "metadata": {},
   "outputs": [
    {
     "name": "stdout",
     "output_type": "stream",
     "text": [
      "두 점 사이의 거리: 3.16\n"
     ]
    }
   ],
   "source": [
    "import math\n",
    "\n",
    "class Coordinate:\n",
    "    def __init__(self, x=0, y=0):\n",
    "        self.x = x\n",
    "        self.y = y\n",
    "\n",
    "    def distance(self, other):\n",
    "        \"\"\"다른 Coordinate 인스턴스와의 거리 반환\"\"\"\n",
    "        dx = self.x - other.x\n",
    "        dy = self.y - other.y\n",
    "        return math.sqrt(dx * dx + dy * dy)\n",
    "\n",
    "# 인스턴스 생성\n",
    "point_1 = Coordinate(-1, 2)\n",
    "point_2 = Coordinate(2, 3)\n",
    "\n",
    "# 메서드로 거리 계산\n",
    "print(f\"두 점 사이의 거리: {point_1.distance(point_2):.2f}\")"
   ]
  },
  {
   "cell_type": "markdown",
   "metadata": {},
   "source": [
    "## 실습과제 5-5\n",
    "Coordinate 클래스를 새로 정의하여, 인스턴스화 과정에서 속성 x와 속성 y를 초기화할 수 있도록 해 보아라.   \n",
    "인스턴스화할 때 초기값을 전달되지 않은 경우에는 기본값 0으로 초기화되도록 해라.  "
   ]
  },
  {
   "cell_type": "code",
   "execution_count": 10,
   "metadata": {},
   "outputs": [
    {
     "name": "stdout",
     "output_type": "stream",
     "text": [
      "두 점 사이의 거리: 5.00\n"
     ]
    }
   ],
   "source": [
    "class Coordinate:\n",
    "    def __init__(self, x=0, y=0):\n",
    "        self.x = x\n",
    "        self.y = y\n",
    "\n",
    "    def distance(self, other):\n",
    "        \"\"\"다른 Coordinate 인스턴스와의 거리 반환\"\"\"\n",
    "        dx = self.x - other.x\n",
    "        dy = self.y - other.y\n",
    "        return math.sqrt(dx * dx + dy * dy)\n",
    "\n",
    "# 인스턴스 생성\n",
    "point_1 = Coordinate(3, 4)\n",
    "point_2 = Coordinate()\n",
    "\n",
    "# 메서드로 거리 계산\n",
    "print(f\"두 점 사이의 거리: {point_1.distance(point_2):.2f}\")"
   ]
  },
  {
   "cell_type": "markdown",
   "metadata": {},
   "source": [
    "## 실습과제 5-6 \n",
    "\n",
    "다음과 같이 구동되는 4칙연산이 가능한 클래스를 만들어보자.\n",
    "- 실행예)\n",
    "``` python \n",
    ">>> a = FourCal()       #객체만들기\n",
    ">>> a.setdata(4, 2)     # 4와 2라는 숫자를 대입\n",
    ">>> a.add()             #4칙연산 모두 가능하도록…\n",
    "6\n",
    "```"
   ]
  },
  {
   "cell_type": "code",
   "execution_count": 18,
   "metadata": {},
   "outputs": [
    {
     "name": "stdout",
     "output_type": "stream",
     "text": [
      "add :  6\n",
      "sub :  2\n",
      "mul :  8\n",
      "div :  2.0\n",
      "0으로는 나눌 수 없습니다.\n",
      "test :  None\n"
     ]
    }
   ],
   "source": [
    "class FourCal:\n",
    "    def setdata(self, a, b):\n",
    "        self.a = a\n",
    "        self.b = b \n",
    "    def add(self):\n",
    "        return self.a + self.b\n",
    "    \n",
    "    def sub(self):\n",
    "        return self.a - self.b\n",
    "    \n",
    "    def mul(self):\n",
    "        return self.a * self.b\n",
    "    \n",
    "    def div(self):\n",
    "        if self.b == 0:\n",
    "            print(\"0으로는 나눌 수 없습니다.\")\n",
    "            return None\n",
    "        return self.a / self.b\n",
    "    \n",
    "a = FourCal()\n",
    "a.setdata(4, 2)\n",
    "\n",
    "print(\"add : \", a.add())  \n",
    "print(\"sub : \", a.sub())  \n",
    "print(\"mul : \", a.mul())  \n",
    "print(\"div : \", a.div())\n",
    "\n",
    "# 0으로 나눌 때 디보깅\n",
    "b = FourCal()\n",
    "b.setdata(4,0)\n",
    "\n",
    "print(\"test : \", b.div())"
   ]
  },
  {
   "cell_type": "markdown",
   "metadata": {},
   "source": [
    "## 실습과제 5-7\n",
    "\n",
    "직사각형을 밑면으로 갖는 사각 기둥의 부피를 계산하기 위한 클래스를 만든다. 이 클래스는 다음과 같은 속성을 가진다.  \n",
    "  \n",
    "밑면의 가로 길이 a, 밑면의 세로 길이 b, 높이 h  \n",
    "부피를 계산하는 메서드 volume  \n",
    "겉넓이를 계산하는 메서드 surface  \n",
    "  \n",
    "가로, 세로, 높이를 몇 가지 예로 부피와 겉넓이를 계산해보아라.  "
   ]
  },
  {
   "cell_type": "code",
   "execution_count": 20,
   "metadata": {},
   "outputs": [
    {
     "name": "stdout",
     "output_type": "stream",
     "text": [
      "volume   :  6\n",
      "surface  :  22\n"
     ]
    }
   ],
   "source": [
    "class Nemo:\n",
    "    def __init__(self, a, b, h):\n",
    "        self.a = a \n",
    "        self.b = b \n",
    "        self.h = h\n",
    "    \n",
    "    def volume(self):\n",
    "        return self.a * self.b * self.h\n",
    "    \n",
    "    def surface(self):\n",
    "        face_a = 2 * self.a * self.b \n",
    "        face_b = 2 * self.a * self.h\n",
    "        face_c = 2 * self.b * self.h\n",
    "        return face_a + face_b + face_c\n",
    "\n",
    "a = Nemo(1,2,3)\n",
    "\n",
    "print(\"volume   : \", a.volume())\n",
    "print(\"surface  : \", a.surface())"
   ]
  },
  {
   "cell_type": "markdown",
   "metadata": {},
   "source": [
    "## 실습과제 5-8\n",
    "다음 요구사항을 참고해 도형(Shape), 삼각형(Triangle), 사각형(Rectangle)을 나타내는 클래스를 정의하여라.  \n",
    "\n",
    "Shape: 도형을 나타내는 클래스  \n",
    "클래스 메서드 describe(): “이 도형은 3 개의 변을 갖고 있습니다.”와 같이 이 도형의 특징을 화면에 출력한다.   \n",
    "변의 개수는 self.sides 속성을 읽어 구한다.  \n",
    "Triangle: 삼각형을 나타내는 클래스  \n",
    "Shape 클래스를 상속  \n",
    "클래스 속성 sides: 변의 개수를 나타내는 속성. 3으로 고정  \n",
    "Rectangle: 사각형을 나타내는 클래스  \n",
    "Shape 클래스를 상속  \n",
    "클래스 속성 sides: 변의 개수를 나타내는 속성. 4로 고정  \n",
    "클래스를 정의한 후에는 프로그램 하단에 도형의 인스턴스를 만들어 특징을 출력하는 다음 코드를 삽입하여라.  \n",
    "\n",
    "```python\n",
    "shapes = [\n",
    "    Triangle(),\n",
    "    Rectangle(),\n",
    "]\n",
    "for shape in shapes:\n",
    "    shape.describe()\n",
    "프로그램을 실행한 결과는 다음과 같아야 한다.\n",
    "\n",
    ">>> 이 도형은 3 개의 변을 갖고 있습니다.\n",
    ">>> 이 도형은 4 개의 변을 갖고 있습니다.\n",
    "```"
   ]
  },
  {
   "cell_type": "code",
   "execution_count": null,
   "metadata": {},
   "outputs": [],
   "source": []
  },
  {
   "cell_type": "markdown",
   "metadata": {},
   "source": [
    "## 실습과제 5-9\n",
    "아래 사항을 참고해 연습문제 5-8에서 정의한 도형 클래스에 도형의 각 좌표 속성과 둘레 계산 메서드를 추가하여라.   \n",
    "이 때, Coordinate 클래스는 연습문제 5-5에서 정의한 것을 활용하도록 한다.  \n",
    "\n",
    "Triangle 클래스에 추가할 속성\n",
    "클래스 메서드 circumference(): 이 삼각형의 둘레를 계산하여 반환한다.  \n",
    "인스턴스 속성 point_a: 꼭지점 A의 좌표. (Coordinate 유형)  \n",
    "인스턴스 속성 point_b: 꼭지점 B의 좌표. (Coordinate 유형)  \n",
    "인스턴스 속성 point_c: 꼭지점 C의 좌표. (Coordinate 유형)  \n",
    "Rectangle 클래스에 추가할 속성  \n",
    "클래스 메서드 circumference(): 이 사각형의 둘레를 계산하여 반환한다.  \n",
    "인스턴스 속성 point_a: 꼭지점 A의 좌표. (Coordinate 유형)  \n",
    "인스턴스 속성 point_b: 꼭지점 B의 좌표. (Coordinate 유형)  \n",
    "인스턴스 속성 point_c: 꼭지점 C의 좌표. (Coordinate 유형)  \n",
    "인스턴스 속성 point_d: 꼭지점 D의 좌표. (Coordinate 유형)  "
   ]
  },
  {
   "cell_type": "code",
   "execution_count": null,
   "metadata": {},
   "outputs": [],
   "source": []
  }
 ],
 "metadata": {
  "kernelspec": {
   "display_name": ".venv",
   "language": "python",
   "name": "python3"
  },
  "language_info": {
   "codemirror_mode": {
    "name": "ipython",
    "version": 3
   },
   "file_extension": ".py",
   "mimetype": "text/x-python",
   "name": "python",
   "nbconvert_exporter": "python",
   "pygments_lexer": "ipython3",
   "version": "3.13.2"
  }
 },
 "nbformat": 4,
 "nbformat_minor": 2
}
