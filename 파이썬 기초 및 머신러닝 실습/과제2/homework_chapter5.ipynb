{
 "cells": [
  {
   "cell_type": "markdown",
   "metadata": {},
   "source": [
    "# 5주차 실습"
   ]
  },
  {
   "cell_type": "markdown",
   "metadata": {
    "vscode": {
     "languageId": "plaintext"
    }
   },
   "source": [
    "## 실습과제 5-1\n",
    "좌표를 나타내는 클래스 Coordinate를 정의해 보아라. 이 클래스의 속성으로 x와 y를 정의하라. 두 속성의 값은 0으로 정의해 두면 된다."
   ]
  },
  {
   "cell_type": "code",
   "execution_count": 1,
   "metadata": {},
   "outputs": [],
   "source": [
    "class Coordinate:\n",
    "    def __init__(self, x=0, y=0):\n",
    "        self.x = x\n",
    "        self.y = y"
   ]
  },
  {
   "cell_type": "markdown",
   "metadata": {},
   "source": [
    "## 실습과제 5-2 \n",
    "앞에서 정의한 Coordinate() 클래스의 인스턴스를 두 개 생성하고, 인스턴스의 속성을 다음과 같이 각각 부여해라.  \n",
    "  \n",
    "첫번째 인스턴스(point_1): x 축의 좌표는 -1, y 축의 좌표는 2  \n",
    "두번째 인스턴스(point_2): x 축의 좌표는 2, y 축의 좌표는 3.  "
   ]
  },
  {
   "cell_type": "code",
   "execution_count": 3,
   "metadata": {},
   "outputs": [],
   "source": [
    "class Coordinate:\n",
    "    def __init__(self, x=0, y=0):\n",
    "        self.x = x\n",
    "        self.y = y\n",
    "\n",
    "point_1 = Coordinate(-1,2)\n",
    "point_2 = Coordinate(2,3)"
   ]
  },
  {
   "cell_type": "markdown",
   "metadata": {},
   "source": [
    "\n",
    "## 실습솨제 5-3 \n",
    "\n",
    "좌표 인스턴스의 거리 계산하기  \n",
    "연습문제 5-2에서 생성한 두 인스턴스의 거리를 계산하려 한다. 코드 참고로 두 점 사이의 거리를 계산하는 함수를 다음 페이지와 같이 정의할 수 있다.  \n",
    "뒷페이지 함수를 참고해, Coordinate 인스턴스 두 개를 전달받아 거리를 계산하는 함수 distance()를 정의해라.  "
   ]
  },
  {
   "cell_type": "code",
   "execution_count": 6,
   "metadata": {},
   "outputs": [
    {
     "name": "stdout",
     "output_type": "stream",
     "text": [
      "두 점 사이의 거리: 3.16\n"
     ]
    }
   ],
   "source": [
    "import math\n",
    "\n",
    "def square(x):\n",
    "    return x * x\n",
    "\n",
    "def distance(point_a, point_b):\n",
    "    return math.sqrt(square(point_a.x - point_b.x) +\n",
    "                     square(point_a.y - point_b.y))\n",
    "\n",
    "class Coordinate:\n",
    "    def __init__(self, x=0, y=0):\n",
    "        self.x = x\n",
    "        self.y = y\n",
    "\n",
    "point_1 = Coordinate(-1,2)\n",
    "point_2 = Coordinate(2,3)\n",
    "\n",
    "\n",
    "print(f\"두 점 사이의 거리: {distance(point_1, point_2):.2f}\")"
   ]
  },
  {
   "cell_type": "markdown",
   "metadata": {},
   "source": [
    "## 실습과제 5-4\n",
    "앞서 정의한 Coordinate 클래스를 새로 정의하여, 두 좌표 사이의 거리를 계산해 반환하는 메서드 distance()를 정의해라.   \n",
    "이 메서드는 메서드 호출의 기준이 된 인스턴스와 거리를 계산할 다른 인스턴스를 각각 매개변수로 전달받아 거리를 계산한다.   \n",
    "인스턴스를 새로 생성하여 메서드를 테스트 해보아라.  "
   ]
  },
  {
   "cell_type": "code",
   "execution_count": 8,
   "metadata": {},
   "outputs": [
    {
     "name": "stdout",
     "output_type": "stream",
     "text": [
      "두 점 사이의 거리: 3.16\n"
     ]
    }
   ],
   "source": [
    "import math\n",
    "\n",
    "class Coordinate:\n",
    "    def __init__(self, x=0, y=0):\n",
    "        self.x = x\n",
    "        self.y = y\n",
    "\n",
    "    def distance(self, other):\n",
    "        \"\"\"다른 Coordinate 인스턴스와의 거리 반환\"\"\"\n",
    "        dx = self.x - other.x\n",
    "        dy = self.y - other.y\n",
    "        return math.sqrt(dx * dx + dy * dy)\n",
    "\n",
    "# 인스턴스 생성\n",
    "point_1 = Coordinate(-1, 2)\n",
    "point_2 = Coordinate(2, 3)\n",
    "\n",
    "# 메서드로 거리 계산\n",
    "print(f\"두 점 사이의 거리: {point_1.distance(point_2):.2f}\")"
   ]
  },
  {
   "cell_type": "markdown",
   "metadata": {},
   "source": [
    "## 실습과제 5-5\n",
    "Coordinate 클래스를 새로 정의하여, 인스턴스화 과정에서 속성 x와 속성 y를 초기화할 수 있도록 해 보아라.   \n",
    "인스턴스화할 때 초기값을 전달되지 않은 경우에는 기본값 0으로 초기화되도록 해라.  "
   ]
  },
  {
   "cell_type": "code",
   "execution_count": 10,
   "metadata": {},
   "outputs": [
    {
     "name": "stdout",
     "output_type": "stream",
     "text": [
      "두 점 사이의 거리: 5.00\n"
     ]
    }
   ],
   "source": [
    "class Coordinate:\n",
    "    def __init__(self, x=0, y=0):\n",
    "        self.x = x\n",
    "        self.y = y\n",
    "\n",
    "    def distance(self, other):\n",
    "        \"\"\"다른 Coordinate 인스턴스와의 거리 반환\"\"\"\n",
    "        dx = self.x - other.x\n",
    "        dy = self.y - other.y\n",
    "        return math.sqrt(dx * dx + dy * dy)\n",
    "\n",
    "# 인스턴스 생성\n",
    "point_1 = Coordinate(3, 4)\n",
    "point_2 = Coordinate()\n",
    "\n",
    "# 메서드로 거리 계산\n",
    "print(f\"두 점 사이의 거리: {point_1.distance(point_2):.2f}\")"
   ]
  },
  {
   "cell_type": "markdown",
   "metadata": {},
   "source": [
    "## 실습과제 5-6 \n",
    "\n",
    "다음과 같이 구동되는 4칙연산이 가능한 클래스를 만들어보자.\n",
    "- 실행예)\n",
    "``` python \n",
    ">>> a = FourCal()       #객체만들기\n",
    ">>> a.setdata(4, 2)     # 4와 2라는 숫자를 대입\n",
    ">>> a.add()             #4칙연산 모두 가능하도록…\n",
    "6\n",
    "```"
   ]
  },
  {
   "cell_type": "code",
   "execution_count": 18,
   "metadata": {},
   "outputs": [
    {
     "name": "stdout",
     "output_type": "stream",
     "text": [
      "add :  6\n",
      "sub :  2\n",
      "mul :  8\n",
      "div :  2.0\n",
      "0으로는 나눌 수 없습니다.\n",
      "test :  None\n"
     ]
    }
   ],
   "source": [
    "class FourCal:\n",
    "    def setdata(self, a, b):\n",
    "        self.a = a\n",
    "        self.b = b \n",
    "    def add(self):\n",
    "        return self.a + self.b\n",
    "    \n",
    "    def sub(self):\n",
    "        return self.a - self.b\n",
    "    \n",
    "    def mul(self):\n",
    "        return self.a * self.b\n",
    "    \n",
    "    def div(self):\n",
    "        if self.b == 0:\n",
    "            print(\"0으로는 나눌 수 없습니다.\")\n",
    "            return None\n",
    "        return self.a / self.b\n",
    "    \n",
    "a = FourCal()\n",
    "a.setdata(4, 2)\n",
    "\n",
    "print(\"add : \", a.add())  \n",
    "print(\"sub : \", a.sub())  \n",
    "print(\"mul : \", a.mul())  \n",
    "print(\"div : \", a.div())\n",
    "\n",
    "# 0으로 나눌 때 디보깅\n",
    "b = FourCal()\n",
    "b.setdata(4,0)\n",
    "\n",
    "print(\"test : \", b.div())"
   ]
  },
  {
   "cell_type": "markdown",
   "metadata": {},
   "source": [
    "## 실습과제 5-7\n",
    "\n",
    "직사각형을 밑면으로 갖는 사각 기둥의 부피를 계산하기 위한 클래스를 만든다. 이 클래스는 다음과 같은 속성을 가진다.  \n",
    "  \n",
    "밑면의 가로 길이 a, 밑면의 세로 길이 b, 높이 h  \n",
    "부피를 계산하는 메서드 volume  \n",
    "겉넓이를 계산하는 메서드 surface  \n",
    "  \n",
    "가로, 세로, 높이를 몇 가지 예로 부피와 겉넓이를 계산해보아라.  "
   ]
  },
  {
   "cell_type": "code",
   "execution_count": 20,
   "metadata": {},
   "outputs": [
    {
     "name": "stdout",
     "output_type": "stream",
     "text": [
      "volume   :  6\n",
      "surface  :  22\n"
     ]
    }
   ],
   "source": [
    "class Nemo:\n",
    "    def __init__(self, a, b, h):\n",
    "        self.a = a \n",
    "        self.b = b \n",
    "        self.h = h\n",
    "    \n",
    "    def volume(self):\n",
    "        return self.a * self.b * self.h\n",
    "    \n",
    "    def surface(self):\n",
    "        face_a = 2 * self.a * self.b \n",
    "        face_b = 2 * self.a * self.h\n",
    "        face_c = 2 * self.b * self.h\n",
    "        return face_a + face_b + face_c\n",
    "\n",
    "a = Nemo(1,2,3)\n",
    "\n",
    "print(\"volume   : \", a.volume())\n",
    "print(\"surface  : \", a.surface())"
   ]
  },
  {
   "cell_type": "markdown",
   "metadata": {},
   "source": [
    "## 실습과제 5-8\n",
    "다음 요구사항을 참고해 도형(Shape), 삼각형(Triangle), 사각형(Rectangle)을 나타내는 클래스를 정의하여라.  \n",
    "\n",
    "Shape: 도형을 나타내는 클래스  \n",
    "클래스 메서드 describe(): “이 도형은 3 개의 변을 갖고 있습니다.”와 같이 이 도형의 특징을 화면에 출력한다.   \n",
    "변의 개수는 self.sides 속성을 읽어 구한다.  \n",
    "Triangle: 삼각형을 나타내는 클래스  \n",
    "Shape 클래스를 상속  \n",
    "클래스 속성 sides: 변의 개수를 나타내는 속성. 3으로 고정  \n",
    "Rectangle: 사각형을 나타내는 클래스  \n",
    "Shape 클래스를 상속  \n",
    "클래스 속성 sides: 변의 개수를 나타내는 속성. 4로 고정  \n",
    "클래스를 정의한 후에는 프로그램 하단에 도형의 인스턴스를 만들어 특징을 출력하는 다음 코드를 삽입하여라.  \n",
    "\n",
    "```python\n",
    "shapes = [\n",
    "    Triangle(),\n",
    "    Rectangle(),\n",
    "]\n",
    "for shape in shapes:\n",
    "    shape.describe()\n",
    "프로그램을 실행한 결과는 다음과 같아야 한다.\n",
    "\n",
    ">>> 이 도형은 3 개의 변을 갖고 있습니다.\n",
    ">>> 이 도형은 4 개의 변을 갖고 있습니다.\n",
    "```"
   ]
  },
  {
   "cell_type": "code",
   "execution_count": 1,
   "metadata": {},
   "outputs": [
    {
     "name": "stdout",
     "output_type": "stream",
     "text": [
      "이 도형은 3 개의 변을 갖고 있습니다.\n",
      "이 도형은 4 개의 변을 갖고 있습니다.\n"
     ]
    }
   ],
   "source": [
    "class Shape:\n",
    "    def describe(self):\n",
    "        print(f\"이 도형은 {self.sides} 개의 변을 갖고 있습니다.\")\n",
    "\n",
    "class Triangle(Shape):\n",
    "    sides = 3\n",
    "\n",
    "class Rectangle(Shape):\n",
    "    sides = 4\n",
    "\n",
    "# 인스턴스를 생성하고 describe 메서드 실행\n",
    "shapes = [\n",
    "    Triangle(),\n",
    "    Rectangle(),\n",
    "]\n",
    "\n",
    "for shape in shapes:\n",
    "    shape.describe()\n"
   ]
  },
  {
   "cell_type": "markdown",
   "metadata": {},
   "source": [
    "## 실습과제 5-9  \n",
    "\n",
    "아래 사항을 참고해 연습문제 5-8에서 정의한 도형 클래스에 도형의 각 좌표 속성과 둘레 계산 메서드를 추가하여라.   \n",
    "이 때, Coordinate 클래스는 연습문제 5-5에서 정의한 것을 활용하도록 한다.  \n",
    "\n",
    "Triangle 클래스에 추가할 속성\n",
    "클래스 메서드 circumference(): 이 삼각형의 둘레를 계산하여 반환한다.  \n",
    "인스턴스 속성 point_a: 꼭지점 A의 좌표. (Coordinate 유형)  \n",
    "인스턴스 속성 point_b: 꼭지점 B의 좌표. (Coordinate 유형)  \n",
    "인스턴스 속성 point_c: 꼭지점 C의 좌표. (Coordinate 유형)  \n",
    "Rectangle 클래스에 추가할 속성  \n",
    "클래스 메서드 circumference(): 이 사각형의 둘레를 계산하여 반환한다.  \n",
    "인스턴스 속성 point_a: 꼭지점 A의 좌표. (Coordinate 유형)  \n",
    "인스턴스 속성 point_b: 꼭지점 B의 좌표. (Coordinate 유형)  \n",
    "인스턴스 속성 point_c: 꼭지점 C의 좌표. (Coordinate 유형)  \n",
    "인스턴스 속성 point_d: 꼭지점 D의 좌표. (Coordinate 유형)  "
   ]
  },
  {
   "cell_type": "code",
   "execution_count": 4,
   "metadata": {},
   "outputs": [
    {
     "name": "stdout",
     "output_type": "stream",
     "text": [
      "둘레: 12.0\n",
      "둘레: 14.0\n"
     ]
    }
   ],
   "source": [
    "import math\n",
    "\n",
    "# 좌표 클래스\n",
    "class Coordinate:\n",
    "    def __init__(self, x, y):\n",
    "        self.x = x\n",
    "        self.y = y\n",
    "\n",
    "    def distance(self, other):\n",
    "        return math.sqrt((self.x - other.x)**2 + (self.y - other.y)**2)\n",
    "\n",
    "# 도형 클래스\n",
    "class Shape:\n",
    "    def describe(self):\n",
    "        print(f\"이 도형은 {self.sides} 개의 변을 갖고 있습니다.\")\n",
    "\n",
    "# 삼각형 클래스\n",
    "class Triangle(Shape):\n",
    "    sides = 3\n",
    "\n",
    "    def __init__(self, point_a, point_b, point_c):\n",
    "        self.point_a = point_a\n",
    "        self.point_b = point_b\n",
    "        self.point_c = point_c\n",
    "\n",
    "    def circumference(self):\n",
    "        ab = self.point_a.distance(self.point_b)\n",
    "        bc = self.point_b.distance(self.point_c)\n",
    "        ca = self.point_c.distance(self.point_a)\n",
    "        return ab + bc + ca\n",
    "\n",
    "# 사각형 클래스\n",
    "class Rectangle(Shape):\n",
    "    sides = 4\n",
    "\n",
    "    def __init__(self, point_a, point_b, point_c, point_d):\n",
    "        self.point_a = point_a\n",
    "        self.point_b = point_b\n",
    "        self.point_c = point_c\n",
    "        self.point_d = point_d\n",
    "\n",
    "    def circumference(self):\n",
    "        ab = self.point_a.distance(self.point_b)\n",
    "        bc = self.point_b.distance(self.point_c)\n",
    "        cd = self.point_c.distance(self.point_d)\n",
    "        da = self.point_d.distance(self.point_a)\n",
    "        return ab + bc + cd + da\n",
    "\n",
    "# 도형 인스턴스 생성 및 둘레 출력\n",
    "triangle = Triangle(\n",
    "    Coordinate(0, 0), \n",
    "    Coordinate(3, 0), \n",
    "    Coordinate(3, 4)\n",
    ")\n",
    "\n",
    "rectangle = Rectangle(\n",
    "    Coordinate(0, 0),\n",
    "    Coordinate(4, 0),\n",
    "    Coordinate(4, 3),\n",
    "    Coordinate(0, 3)\n",
    ")\n",
    "\n",
    "shapes = [triangle, rectangle]\n",
    "\n",
    "for shape in shapes:\n",
    "    print(\"둘레:\", shape.circumference())\n"
   ]
  },
  {
   "cell_type": "markdown",
   "metadata": {},
   "source": [
    "## 실습과제 5-10,11\n",
    "\n",
    "```python\n",
    "cal = UpgradeCalculator()\n",
    "cal.add(10)\n",
    "cal.minus(7)\n",
    "\n",
    "print(cal.value)  # 10에서 7을 뺀 3을 출력\n",
    "```\n",
    "\n",
    "이번에 여러분이 작성해야 하는 클래스는 MaxLimitCalculator 클래스이다.   \n",
    "MaxLimitCalculator 클래스는 객체변수 value가 100이상의 값은 가질 수 없도록 제한하는 클래스이다. 즉, 다음과 같이 동작해야 한다.  \n",
    "\n",
    "```python\n",
    "cal = MaxLimitCalculator()\n",
    "cal.add(50)  # 50 더하기\n",
    "cal.add(60)  # 60 더하기\n",
    "\n",
    "print(cal.value)  # 100 출력 \n",
    "```\n",
    "\n",
    "단, 한가지 전제 조건이 있다. 그 조건은 반드시 다음과 같은 Calculator 클래스를 상속해서 만들어야 한다는 것이다.  \n",
    "\n",
    "```python\n",
    "class Calculator:\n",
    "    def __init__(self):\n",
    "        self.value = 0\n",
    "\n",
    "    def add(self, val):\n",
    "        self.value += val\n",
    "```\n",
    "\n",
    "위와 같은 조건을 만족하는 MaxLimitCalculator 클래스를 작성하시오.\n",
    "\n"
   ]
  },
  {
   "cell_type": "code",
   "execution_count": 5,
   "metadata": {},
   "outputs": [
    {
     "name": "stdout",
     "output_type": "stream",
     "text": [
      "100\n"
     ]
    }
   ],
   "source": [
    "class Calculator:\n",
    "    def __init__(self):\n",
    "        self.value = 0\n",
    "\n",
    "    def add(self, val):\n",
    "        self.value += val\n",
    "\n",
    "# MaxLimitCalculator 정의\n",
    "class MaxLimitCalculator(Calculator):\n",
    "    def add(self, val):\n",
    "        self.value += val\n",
    "        if self.value > 100:\n",
    "            self.value = 100\n",
    "\n",
    "# 사용 예시\n",
    "cal = MaxLimitCalculator()\n",
    "cal.add(50)   # 50 더하기\n",
    "cal.add(60)   # 60 더하기 (합계는 110이지만 제한)\n",
    "\n",
    "print(cal.value)  # 출력: 100\n"
   ]
  },
  {
   "cell_type": "markdown",
   "metadata": {},
   "source": [
    "## 실습과제 5-12\n",
    "\n",
    "다음과 같이 자동차를 나타내는 Car 클래스를 구현한다.  \n",
    "\n",
    "이 클래스는 최고 속도를 의미하는 max_speed라는 속성과 현재 속도를 나타내는 speed라는 속성을 가진다.  \n",
    "처음 max_speed 속성은 160이 되고 speed 속성은 0이 된다.  \n",
    "speed_up, speed_down이라는 메서드를 가진다. speed_up을 호출하면 speed 속성이 20씩 증가하고 speed_down을 호출하면 speed 속성이 20씩 감소한다.  \n",
    "스피드 속성 speed의 값은 max_speed 속성 값, 즉 160을 넘을 수 없다. 또 0 미만으로 감소할 수도 없다.  \n",
    "메서드는 호출시 속도 정보를 출력하고 명시적인 반환값을 가지지 않는다.  "
   ]
  },
  {
   "cell_type": "code",
   "execution_count": 6,
   "metadata": {},
   "outputs": [
    {
     "name": "stdout",
     "output_type": "stream",
     "text": [
      "현재 속도: 20km/h\n",
      "현재 속도: 40km/h\n",
      "현재 속도: 20km/h\n",
      "현재 속도: 0km/h\n",
      "현재 속도: 0km/h\n"
     ]
    }
   ],
   "source": [
    "class Car:\n",
    "    def __init__(self):\n",
    "        self.max_speed = 160\n",
    "        self.speed = 0\n",
    "\n",
    "    def speed_up(self):\n",
    "        self.speed += 20\n",
    "        if self.speed > self.max_speed:\n",
    "            self.speed = self.max_speed\n",
    "        print(f\"현재 속도: {self.speed}km/h\")\n",
    "\n",
    "    def speed_down(self):\n",
    "        self.speed -= 20\n",
    "        if self.speed < 0:\n",
    "            self.speed = 0\n",
    "        print(f\"현재 속도: {self.speed}km/h\")\n",
    "\n",
    "# 사용 예시\n",
    "car = Car()\n",
    "car.speed_up()    # 현재 속도: 20km/h\n",
    "car.speed_up()    # 현재 속도: 40km/h\n",
    "car.speed_down()  # 현재 속도: 20km/h\n",
    "car.speed_down()  # 현재 속도: 0km/h\n",
    "car.speed_down()  # 현재 속도: 0km/h\n"
   ]
  },
  {
   "cell_type": "markdown",
   "metadata": {},
   "source": [
    "## 실습과제 5-13\n",
    "\n",
    "Car 클래스를 기반으로 SportCar와 Truck이라는 두 개의 자식 클래스를 구현한다.  \n",
    "  \n",
    "SportCar 클래스는 max_speed 속성이 200 이고 speed_up, speed_down 호출시 속도가 45씩 증가 혹은 감소한다.  \n",
    "Truck 클래스는 max_speed 속성이 100 이고 speed_up, speed_down 호출시 속도가 15씩 증가 혹은 감소한다.  \n",
    "스피드 속성 speed의 값은 max_speed 속성 값을 넘을 수 없다. 또 0 미만으로 감소할 수도 없다.  \n",
    "메서드는 호출시 속도 정보를 출력하고 명시적인 반환값을 가지지 않는다.  "
   ]
  },
  {
   "cell_type": "code",
   "execution_count": 7,
   "metadata": {},
   "outputs": [
    {
     "name": "stdout",
     "output_type": "stream",
     "text": [
      "=== 스포츠카 테스트 ===\n",
      "현재 속도: 45km/h\n",
      "현재 속도: 90km/h\n",
      "현재 속도: 45km/h\n",
      "\n",
      "=== 트럭 테스트 ===\n",
      "현재 속도: 15km/h\n",
      "현재 속도: 30km/h\n",
      "현재 속도: 15km/h\n"
     ]
    }
   ],
   "source": [
    "class Car:\n",
    "    def __init__(self):\n",
    "        self.max_speed = 160\n",
    "        self.speed = 0\n",
    "\n",
    "    def speed_up(self):\n",
    "        self.speed += 20\n",
    "        if self.speed > self.max_speed:\n",
    "            self.speed = self.max_speed\n",
    "        print(f\"현재 속도: {self.speed}km/h\")\n",
    "\n",
    "    def speed_down(self):\n",
    "        self.speed -= 20\n",
    "        if self.speed < 0:\n",
    "            self.speed = 0\n",
    "        print(f\"현재 속도: {self.speed}km/h\")\n",
    "\n",
    "class SportCar(Car):\n",
    "    def __init__(self):\n",
    "        super().__init__()\n",
    "        self.max_speed = 200\n",
    "\n",
    "    def speed_up(self):\n",
    "        self.speed += 45\n",
    "        if self.speed > self.max_speed:\n",
    "            self.speed = self.max_speed\n",
    "        print(f\"현재 속도: {self.speed}km/h\")\n",
    "\n",
    "    def speed_down(self):\n",
    "        self.speed -= 45\n",
    "        if self.speed < 0:\n",
    "            self.speed = 0\n",
    "        print(f\"현재 속도: {self.speed}km/h\")\n",
    "\n",
    "class Truck(Car):\n",
    "    def __init__(self):\n",
    "        super().__init__()\n",
    "        self.max_speed = 100\n",
    "\n",
    "    def speed_up(self):\n",
    "        self.speed += 15\n",
    "        if self.speed > self.max_speed:\n",
    "            self.speed = self.max_speed\n",
    "        print(f\"현재 속도: {self.speed}km/h\")\n",
    "\n",
    "    def speed_down(self):\n",
    "        self.speed -= 15\n",
    "        if self.speed < 0:\n",
    "            self.speed = 0\n",
    "        print(f\"현재 속도: {self.speed}km/h\")\n",
    "\n",
    "# 사용 예시\n",
    "print(\"=== 스포츠카 테스트 ===\")\n",
    "sport = SportCar()\n",
    "sport.speed_up()    # 현재 속도: 45km/h\n",
    "sport.speed_up()    # 현재 속도: 90km/h\n",
    "sport.speed_down()  # 현재 속도: 45km/h\n",
    "\n",
    "print(\"\\n=== 트럭 테스트 ===\")\n",
    "truck = Truck()\n",
    "truck.speed_up()    # 현재 속도: 15km/h\n",
    "truck.speed_up()    # 현재 속도: 30km/h\n",
    "truck.speed_down()  # 현재 속도: 15km/h\n"
   ]
  },
  {
   "cell_type": "markdown",
   "metadata": {},
   "source": [
    "## 실습과제 5-14\n",
    "\n",
    "다음 조건에 맞춰 주사위를 나타내는 클래스(Dice)를 정의하여라.  \n",
    "\n",
    "각 주사위 객체마다 면의 수가 다르다. 예를 들어 육면체 주사위는 6개의 면을 갖는다. 이 ‘면의 수’를 비공개 인스턴스 속성으로 정의하라.  \n",
    "각 주사위 객체는 항상 어느 한 면이 위를 향하고 있으며, 그 면은 1과 ‘면의 수’ 사이의 자연수다. 이 ‘나온 면’을 비공개 인스턴스 속성으로 정의하라.  \n",
    "주사위 인스턴스는 Dice(sides)와 같이 하나의 인자를 전달하여 생성한다. 인스턴스화 과정에서 ‘면의 수’는 sides가 전달받는 값으로, ‘나온 면’은 자신이 가질 수 있는 임의의 값으로 초기화된다.  \n",
    "인스턴스의 현재 ‘나온 면’을 반환하는 top() 메서드를 정의하라.  \n",
    "인스턴스의 ‘나온 면’을 새 임의의 값으로 설정하고 반환하는 role() 메서드를 정의하라.  \n",
    "n 이상 m 이하의 임의의 수는 random.randint(n, m) 함수를 사용하여 구한다. 예를 들어 1 이상 8 이하의 임의의 수는 random.randint(1, 8)이다. (이 함수를 사용하려면 먼저 random 모듈을 임포트해야 한다.)  \n",
    "\n",
    "클래스를 정의한 후 프로그램 하단에 다음 코드를 삽입해 테스트해 보아라.\n",
    "\n",
    "```python\n",
    "dice_4 = Dice(4)      # 사면체 주사위 생성\n",
    "print('사면체 주사위 테스트 ----')\n",
    "print('처음 나온 면:', dice_4.top())\n",
    "print('다시 굴리기:', dice_4.roll())\n",
    "print('다시 굴리기:', dice_4.roll())\n",
    "\n",
    "dice_100 = Dice(100)  # 백면체 주사위 생성\n",
    "print('백면체 주사위 테스트 ----')\n",
    "print('처음 나온 면:', dice_100.top())\n",
    "print('다시 굴리기:', dice_100.roll())\n",
    "print('다시 굴리기:', dice_100.roll())\n",
    "```\n",
    "\n"
   ]
  },
  {
   "cell_type": "code",
   "execution_count": 12,
   "metadata": {},
   "outputs": [
    {
     "name": "stdout",
     "output_type": "stream",
     "text": [
      "사면체 주사위 테스트 ----\n",
      "처음 나온 면: 1\n",
      "다시 굴리기: 2\n",
      "다시 굴리기: 3\n",
      "백면체 주사위 테스트 ----\n",
      "처음 나온 면: 61\n",
      "다시 굴리기: 25\n",
      "다시 굴리기: 12\n"
     ]
    }
   ],
   "source": [
    "import random\n",
    "\n",
    "class Dice:\n",
    "    def __init__(self, sides):\n",
    "        self.__sides = sides\n",
    "        self.__top = random.randint(1, self.__sides)\n",
    "\n",
    "    def top(self):\n",
    "        return self.__top\n",
    "\n",
    "    def roll(self):\n",
    "        self.__top = random.randint(1, self.__sides)\n",
    "        return self.__top\n",
    "\n",
    "dice_4 = Dice(4)      # 사면체 주사위 생성\n",
    "print('사면체 주사위 테스트 ----')\n",
    "print('처음 나온 면:', dice_4.top())\n",
    "print('다시 굴리기:', dice_4.roll())\n",
    "print('다시 굴리기:', dice_4.roll())\n",
    "\n",
    "dice_100 = Dice(100)  # 백면체 주사위 생성\n",
    "print('백면체 주사위 테스트 ----')\n",
    "print('처음 나온 면:', dice_100.top())\n",
    "print('다시 굴리기:', dice_100.roll())\n",
    "print('다시 굴리기:', dice_100.roll())\n"
   ]
  },
  {
   "cell_type": "markdown",
   "metadata": {},
   "source": [
    "## 실습과제 5-15\n",
    "\n",
    "앞의 음식 클래스 Food에 크기 비교 연산을 추가해 보아라. 맛이 좋으면 더 큰 것이고, 같은 맛이면 칼로리가 더 적은 것이 더 큰 것이다. 맛과 칼로리가 모두 같으면 두 음식의 크기가 같다. 클래스를 정의한 후 그 아래에 다음 코드를 입력하여 잘 실행되는지 확인해 보아라.\n",
    "```python\n",
    "strawberry = Food(9, 32)\n",
    "potato = Food(6, 66)\n",
    "sweet_potato = Food(12, 131)\n",
    "pizza = Food(13, 266)\n",
    "print('딸기 < 감자: ', strawberry < potato)\n",
    "print('감자 + 감자 < 고구마: ', potato + potato < sweet_potato)\n",
    "print('피자 >= 딸기: ', pizza >= strawberry)\n",
    "print('피자 >= 피자: ', pizza >= strawberry)\n",
    "print('감자 + 딸기 < 피자: ', potato + strawberry < pizza)\n",
    "print('딸기 == 딸기: ', potato == potato)\n",
    "```"
   ]
  },
  {
   "cell_type": "code",
   "execution_count": 11,
   "metadata": {},
   "outputs": [
    {
     "name": "stdout",
     "output_type": "stream",
     "text": [
      "딸기 < 감자:  False\n",
      "감자 + 감자 < 고구마:  True\n",
      "피자 >= 딸기:  True\n",
      "피자 >= 피자:  True\n",
      "감자 + 딸기 < 피자:  False\n",
      "딸기 == 딸기:  True\n"
     ]
    }
   ],
   "source": [
    "class Food:\n",
    "    def __init__(self, taste, calorie):\n",
    "        self.taste = taste\n",
    "        self.calorie = calorie\n",
    "\n",
    "    def __add__(self, other):\n",
    "        return Food(self.taste + other.taste, self.calorie + other.calorie)\n",
    "\n",
    "    def __lt__(self, other):\n",
    "        if self.taste != other.taste:\n",
    "            return self.taste < other.taste\n",
    "        return self.calorie > other.calorie  # 맛이 같으면 칼로리가 더 적은 게 더 큼 → 더 많은 칼로리는 작음\n",
    "\n",
    "    def __le__(self, other):\n",
    "        return self < other or self == other\n",
    "\n",
    "    def __eq__(self, other):\n",
    "        return self.taste == other.taste and self.calorie == other.calorie\n",
    "\n",
    "    def __ne__(self, other):\n",
    "        return not self == other\n",
    "\n",
    "    def __gt__(self, other):\n",
    "        return not self <= other\n",
    "\n",
    "    def __ge__(self, other):\n",
    "        return not self < other\n",
    "    \n",
    "strawberry = Food(9, 32)\n",
    "potato = Food(6, 66)\n",
    "sweet_potato = Food(12, 131)\n",
    "pizza = Food(13, 266)\n",
    "\n",
    "print('딸기 < 감자: ', strawberry < potato)\n",
    "print('감자 + 감자 < 고구마: ', potato + potato < sweet_potato)\n",
    "print('피자 >= 딸기: ', pizza >= strawberry)\n",
    "print('피자 >= 피자: ', pizza >= strawberry)\n",
    "print('감자 + 딸기 < 피자: ', potato + strawberry < pizza)\n",
    "print('딸기 == 딸기: ', potato == potato)\n",
    "\n"
   ]
  }
 ],
 "metadata": {
  "kernelspec": {
   "display_name": "Python 3",
   "language": "python",
   "name": "python3"
  },
  "language_info": {
   "codemirror_mode": {
    "name": "ipython",
    "version": 3
   },
   "file_extension": ".py",
   "mimetype": "text/x-python",
   "name": "python",
   "nbconvert_exporter": "python",
   "pygments_lexer": "ipython3",
   "version": "3.12.3"
  }
 },
 "nbformat": 4,
 "nbformat_minor": 2
}
