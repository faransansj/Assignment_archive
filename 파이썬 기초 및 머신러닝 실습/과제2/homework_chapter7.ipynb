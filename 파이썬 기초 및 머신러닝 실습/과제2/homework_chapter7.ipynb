{
 "cells": [
  {
   "cell_type": "markdown",
   "id": "6f722148",
   "metadata": {},
   "source": [
    "# 7주차 실습: 단순/이차 회귀 및 경사하강법"
   ]
  },
  {
   "cell_type": "markdown",
   "id": "e6fba414",
   "metadata": {},
   "source": [
    "## ✅ 실습과제 7-1: MAE 함수 구현"
   ]
  },
  {
   "cell_type": "code",
   "execution_count": 1,
   "id": "9614e1dc",
   "metadata": {},
   "outputs": [
    {
     "name": "stdout",
     "output_type": "stream",
     "text": [
      "평균 절대 오차: 4.5\n"
     ]
    }
   ],
   "source": [
    "import numpy as np\n",
    "\n",
    "def compute_mae(x, y, w, b):\n",
    "    m = len(x)\n",
    "    total_error = 0\n",
    "    for i in range(m):\n",
    "        f_wb = w * x[i] + b\n",
    "        total_error += abs(f_wb - y[i])\n",
    "    return total_error / m\n",
    "\n",
    "x = np.array([10, 9, 3, 2])\n",
    "y = np.array([90, 80, 50, 30])\n",
    "mae = compute_mae(x, y, 6, 30)\n",
    "print(\"평균 절대 오차:\", mae)"
   ]
  },
  {
   "cell_type": "markdown",
   "id": "cfdb0018",
   "metadata": {},
   "source": [
    "## ✅ 실습과제 7-2: 이차 회귀 gradient 계산"
   ]
  },
  {
   "cell_type": "code",
   "execution_count": 2,
   "id": "e9729da4",
   "metadata": {},
   "outputs": [],
   "source": [
    "def compute_grad_new(x, y, w, b):\n",
    "    m = x.shape[0]\n",
    "    dj_dw = 0\n",
    "    dj_db = 0\n",
    "    for i in range(m):\n",
    "        f_wb = w * x[i]**2 + b\n",
    "        dj_dw_i = (f_wb - y[i]) * x[i]**2\n",
    "        dj_db_i = (f_wb - y[i])\n",
    "        dj_dw += dj_dw_i\n",
    "        dj_db += dj_db_i\n",
    "    dj_dw /= m\n",
    "    dj_db /= m\n",
    "    return dj_dw, dj_db"
   ]
  },
  {
   "cell_type": "markdown",
   "id": "beb50afe",
   "metadata": {},
   "source": [
    "## ✅ 실습과제 7-3: 비용 함수 (MSE) 구현"
   ]
  },
  {
   "cell_type": "code",
   "execution_count": 3,
   "id": "ad20f72a",
   "metadata": {},
   "outputs": [],
   "source": [
    "def compute_cost(x, y, w, b):\n",
    "    m = len(x)\n",
    "    cost = 0\n",
    "    for i in range(m):\n",
    "        f_wb = w * x[i]**2 + b\n",
    "        cost += (f_wb - y[i])**2\n",
    "    return cost / (2 * m)"
   ]
  },
  {
   "cell_type": "markdown",
   "id": "191466d4",
   "metadata": {},
   "source": [
    "## ✅ 실습과제 7-4: 이차 회귀 경사하강법 구현"
   ]
  },
  {
   "cell_type": "code",
   "execution_count": 4,
   "id": "61278444",
   "metadata": {},
   "outputs": [],
   "source": [
    "import math\n",
    "\n",
    "def gradient_descent(x, y, w_in, b_in, alpha, num_iters, cost_function, gradient_function):\n",
    "    J_history = []\n",
    "    p_history = []\n",
    "    b = b_in\n",
    "    w = w_in\n",
    "\n",
    "    for i in range(num_iters):\n",
    "        dj_dw, dj_db = gradient_function(x, y, w , b)\n",
    "\n",
    "        b = b - alpha * dj_db\n",
    "        w = w - alpha * dj_dw\n",
    "\n",
    "        if i < 100000:\n",
    "            J_history.append(cost_function(x, y, w , b))\n",
    "            p_history.append([w, b])\n",
    "        if i % math.ceil(num_iters / 10) == 0:\n",
    "            print(f\"Iteration {i:4}: Cost {J_history[-1]:.2e} \",\n",
    "                  f\"dj_dw: {dj_dw:.3e}, dj_db: {dj_db:.3e}  \",\n",
    "                  f\"w: {w:.3e}, b: {b:.5e}\")\n",
    "\n",
    "    return w, b, J_history, p_history"
   ]
  },
  {
   "cell_type": "code",
   "execution_count": 5,
   "id": "e8f3cc6f",
   "metadata": {},
   "outputs": [
    {
     "name": "stdout",
     "output_type": "stream",
     "text": [
      "Iteration    0: Cost 3.06e+02  dj_dw: 1.520e+02, dj_db: -1.400e+01   w: 9.392e-01, b: 5.60000e-03\n",
      "Iteration 10000: Cost 2.75e+01  dj_dw: 3.222e-02, dj_db: -2.766e+00   w: 6.155e-01, b: 2.98834e+01\n",
      "Iteration 20000: Cost 1.90e+01  dj_dw: 5.651e-03, dj_db: -4.852e-01   w: 5.544e-01, b: 3.51245e+01\n",
      "Iteration 30000: Cost 1.87e+01  dj_dw: 9.914e-04, dj_db: -8.512e-02   w: 5.437e-01, b: 3.60439e+01\n",
      "Iteration 40000: Cost 1.87e+01  dj_dw: 1.739e-04, dj_db: -1.493e-02   w: 5.419e-01, b: 3.62052e+01\n",
      "Iteration 50000: Cost 1.87e+01  dj_dw: 3.051e-05, dj_db: -2.619e-03   w: 5.415e-01, b: 3.62335e+01\n",
      "Iteration 60000: Cost 1.87e+01  dj_dw: 5.351e-06, dj_db: -4.594e-04   w: 5.415e-01, b: 3.62384e+01\n",
      "Iteration 70000: Cost 1.87e+01  dj_dw: 9.387e-07, dj_db: -8.060e-05   w: 5.415e-01, b: 3.62393e+01\n",
      "Iteration 80000: Cost 1.87e+01  dj_dw: 1.647e-07, dj_db: -1.414e-05   w: 5.415e-01, b: 3.62394e+01\n",
      "Iteration 90000: Cost 1.87e+01  dj_dw: 2.889e-08, dj_db: -2.480e-06   w: 5.415e-01, b: 3.62395e+01\n",
      "(w,b): (0.5415, 36.2395)\n"
     ]
    }
   ],
   "source": [
    "x_train = np.array([10, 9, 3, 2])\n",
    "y_train = np.array([90, 80, 50, 30])\n",
    "\n",
    "w_init = 1\n",
    "b_init = 0\n",
    "iterations = 100000\n",
    "alpha = 0.0004\n",
    "\n",
    "w_final, b_final, J_hist, p_hist = gradient_descent(\n",
    "    x_train, y_train, w_init, b_init, alpha, iterations,\n",
    "    compute_cost, compute_grad_new)\n",
    "\n",
    "print(f\"(w,b): ({w_final:.4f}, {b_final:.4f})\")"
   ]
  },
  {
   "cell_type": "markdown",
   "id": "f1621166",
   "metadata": {},
   "source": [
    "## ✅ 실습과제 7-5: 5시간 공부했을 때 예측"
   ]
  },
  {
   "cell_type": "code",
   "execution_count": 6,
   "id": "9b3a400a",
   "metadata": {},
   "outputs": [
    {
     "name": "stdout",
     "output_type": "stream",
     "text": [
      "5시간 공부한 학생의 예상 점수: 49.775830440400696\n"
     ]
    }
   ],
   "source": [
    "x_pred = 5\n",
    "y_pred = w_final * x_pred**2 + b_final\n",
    "print(\"5시간 공부한 학생의 예상 점수:\", y_pred)"
   ]
  }
 ],
 "metadata": {
  "kernelspec": {
   "display_name": "Python 3",
   "name": "python3"
  },
  "language_info": {
   "codemirror_mode": {
    "name": "ipython",
    "version": 3
   },
   "file_extension": ".py",
   "mimetype": "text/x-python",
   "name": "python",
   "nbconvert_exporter": "python",
   "pygments_lexer": "ipython3",
   "version": "3.12.3"
  }
 },
 "nbformat": 4,
 "nbformat_minor": 5
}
